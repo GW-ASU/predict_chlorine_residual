{
 "cells": [
  {
   "cell_type": "code",
   "execution_count": 1,
   "id": "8934642c-fd99-48e5-9dcd-a76adbaf005d",
   "metadata": {
    "tags": []
   },
   "outputs": [],
   "source": [
    "\n",
    "import numpy as np\n",
    "import pandas as pd\n",
    "from matplotlib import pyplot as plt\n",
    "import warnings\n",
    "from sklearn.model_selection import train_test_split\n",
    "from sklearn.inspection import permutation_importance\n",
    "import time\n",
    "import random\n",
    "from sklearn.ensemble import RandomForestRegressor\n",
    "from sklearn.metrics import r2_score\n",
    "from sklearn.metrics import mean_squared_error\n",
    "from sklearn.inspection import partial_dependence\n",
    "import seaborn as sns\n",
    "random_seed=251\n",
    "random.seed(random_seed)\n",
    "np.random.seed(random_seed)\n",
    "\n",
    "from matplotlib import rc\n",
    "rc('font',**{'family':'serif','serif':['Times']})\n",
    "# rc.rcParams['font.size'] = 12\n",
    "rc('text', usetex=True)"
   ]
  },
  {
   "cell_type": "code",
   "execution_count": 2,
   "id": "fc178b59-8296-478b-a619-25b8ca34f5f2",
   "metadata": {
    "tags": []
   },
   "outputs": [],
   "source": [
    "# moving_window=12\n",
    "\n",
    "df= pd.read_csv('D:/istb_4/ISTB4_fillcombdata2.csv')\n",
    "\n",
    "# df_x_m=df1.groupby(pd.RangeIndex(len(df1)) // 12).mean()\n",
    "# df_x_m=df1.rolling(moving_window).mean()\n",
    "# df_ready=df_x_m.dropna()\n",
    "# df=df_ready.dropna()"
   ]
  },
  {
   "cell_type": "code",
   "execution_count": 3,
   "id": "75d5ca97-b7e5-4dab-8a45-743647c827f6",
   "metadata": {},
   "outputs": [],
   "source": [
    "# df['time_index']=list(range (len(df.Time)))\n",
    "# df['month_index']=pd.DatetimeIndex(df['Time']).month\n",
    "# df['hour_index']=pd.DatetimeIndex(df['Time']).hour\n",
    "# df['day_index']=pd.DatetimeIndex(df['Time']).weekday\n",
    "# df['week_index']=pd.DatetimeIndex(df['Time']).isocalendar()['week'].to_numpy()"
   ]
  },
  {
   "cell_type": "code",
   "execution_count": 4,
   "id": "8ef21333-7f3e-4c73-854c-7235a73cbaa6",
   "metadata": {
    "tags": []
   },
   "outputs": [],
   "source": [
    "def norm(df1,df2):\n",
    "    df1_norm=(df1-df2.min())/(df2.max()-df2.min())\n",
    "    return df1_norm"
   ]
  },
  {
   "cell_type": "code",
   "execution_count": 5,
   "id": "c4a853d2-4af8-4a17-83b1-ec0d0ee0ca0e",
   "metadata": {},
   "outputs": [],
   "source": [
    "\n",
    "Cl_y = df['Chlorine.ppm.']\n",
    "Cl_x =df[['pH','Conductivity.uS.','Temperature.C.','ORP.mV.','ISTB4.Sum']]#,'time_index','month_index','week_index','day_index','hour_index']]"
   ]
  },
  {
   "cell_type": "code",
   "execution_count": null,
   "id": "679620e9-3a92-40ae-99eb-5d944e137258",
   "metadata": {},
   "outputs": [],
   "source": []
  },
  {
   "cell_type": "code",
   "execution_count": null,
   "id": "c13f5520-d5c9-44fb-8c3d-3cb63f0aa408",
   "metadata": {
    "tags": []
   },
   "outputs": [],
   "source": [
    "\"'  shuffle'\"\n",
    "dx =Cl_x[:-1]\n",
    "dy =Cl_y[1:]\n",
    "\n",
    "\n",
    "X_train,X_test,y_train,y_test=train_test_split(dx,dy ,test_size=0.2, random_state=random_seed)\n",
    "# X_train,X_cv,y_train,y_cv=train_test_split(X_traincv,y_traincv ,test_size=0.2, random_state=random_seed)\n",
    "\n",
    "X_train.shape, y_train.shape,X_test.shape, y_test.shape\n"
   ]
  },
  {
   "cell_type": "code",
   "execution_count": null,
   "id": "ed2d5e6b-3de7-4f47-bb7b-6562e97c64b5",
   "metadata": {},
   "outputs": [],
   "source": [
    "'time order-all time'\n",
    "# X_train =norm(Cl_x[:55000],Cl_x[:55000])\n",
    "# y_train =Cl_y[1:55001]\n",
    "\n",
    "# X_test =norm(Cl_x[55000:-1],Cl_x[:55000])\n",
    "# y_test =Cl_y[55001:]\n",
    "# X_train.shape, y_train.shape,X_test.shape, y_test.shape"
   ]
  },
  {
   "cell_type": "code",
   "execution_count": null,
   "id": "6d0c5b61-5269-4013-8a4f-6c8457084cae",
   "metadata": {},
   "outputs": [],
   "source": [
    "# 'time order-a slice of time'\n",
    "# X_train =norm(Cl_x[40000:48000], Cl_x[40000:48000])\n",
    "# y_train =Cl_y[40001:48001]\n",
    "\n",
    "# X_test=norm(Cl_x[48000:49999], Cl_x[40000:48000])\n",
    "# y_test =Cl_y[48001:50000]\n",
    "# X_train.shape, y_train.shape,X_test.shape, y_test.shape"
   ]
  },
  {
   "cell_type": "code",
   "execution_count": null,
   "id": "d966323c-69c9-491d-b6a8-20ecc827ff3c",
   "metadata": {},
   "outputs": [],
   "source": [
    "\n",
    "\n",
    "rfm = RandomForestRegressor(n_jobs=-1,n_estimators=1000,random_state=random_seed,max_features=4,min_samples_leaf=20)\n",
    "rfm.fit(X_train,y_train)\n",
    "vari_imp_mn=rfm.feature_importances_\n",
    "yhte= rfm.predict(X_test)\n",
    "yhtr=rfm.predict(X_train)\n",
    "# yhcv=rfm.predict(X_cv)\n"
   ]
  },
  {
   "cell_type": "code",
   "execution_count": null,
   "id": "0b1a3372-402e-4f9b-bd2b-e83adec739eb",
   "metadata": {},
   "outputs": [],
   "source": [
    "mean_squared_error (y_train,yhtr),mean_squared_error (y_test,yhte),#mean_squared_error (y_cv,yhcv)"
   ]
  },
  {
   "cell_type": "code",
   "execution_count": null,
   "id": "24a617d4-17d1-407e-afb2-cafd9de6daf9",
   "metadata": {},
   "outputs": [],
   "source": [
    "r2_score(y_train,yhtr),r2_score(y_test,yhte),#r2_score(y_cv,yhcv)"
   ]
  },
  {
   "cell_type": "markdown",
   "id": "c4f8b2ab-f557-4695-8f81-aed19a26bff0",
   "metadata": {},
   "source": [
    "# permutation"
   ]
  },
  {
   "cell_type": "code",
   "execution_count": null,
   "id": "2bf26cbf-b144-4c29-937c-d9d344b10b34",
   "metadata": {},
   "outputs": [],
   "source": [
    "\n",
    "resultss = permutation_importance(rfm, X_train, y_train, n_repeats=10,\n",
    "                                random_state=0)\n"
   ]
  },
  {
   "cell_type": "code",
   "execution_count": null,
   "id": "316e799c-153a-4997-a3cb-7f6035625a0a",
   "metadata": {},
   "outputs": [],
   "source": [
    "variables_name=['pH', 'Conductivity', 'Temperature', 'ORP', 'Occupancy']\n",
    "\n",
    "forest_importances = pd.DataFrame(data=resultss.importances_mean, index=variables_name, columns=['permute'])\n",
    "kkk_sort=forest_importances.sort_values('permute',ascending=False)\n",
    "\n"
   ]
  },
  {
   "cell_type": "code",
   "execution_count": null,
   "id": "ac68b73d-3fe2-4533-bf4c-fe79f8632c56",
   "metadata": {},
   "outputs": [],
   "source": [
    "from matplotlib import rc\n",
    "rc('font',**{'family':'serif','serif':['Times']})\n",
    "# rc.rcParams['font.size'] = 12\n",
    "rc('text', usetex=True)\n",
    "txt_size=13\n",
    "label_size=10\n",
    "fig, ax=plt.subplots(nrows=1, ncols=1, sharey= True, figsize=(5,3), dpi=200)\n",
    "\n",
    "ax.bar(kkk_sort.index,kkk_sort['permute']/kkk_sort['permute'].sum())\n",
    "ax.set_ylabel('Variable importance',fontsize=txt_size)\n",
    "ax.xaxis.set_ticks_position('both')\n",
    "ax.tick_params(direction='in',labelsize=label_size)\n",
    "ax.yaxis.set_ticks_position('both')\n",
    "ax.set_yticks(ticks=np.arange(0,0.45,.1),labels=['0','0.1','0.2','0.3','0.4'])\n",
    "plt.show()"
   ]
  },
  {
   "cell_type": "markdown",
   "id": "4f2a6f33-512b-4553-853e-807ed3283d3a",
   "metadata": {},
   "source": [
    "# PDP"
   ]
  },
  {
   "cell_type": "code",
   "execution_count": null,
   "id": "36bc4931-aeac-4105-a229-e95f03bca286",
   "metadata": {},
   "outputs": [],
   "source": [
    "from sklearn.inspection import PartialDependenceDisplay\n",
    "PartialDependenceDisplay.from_estimator(rfm,X_train, [0, 1, 2,3,4],kind='both')"
   ]
  },
  {
   "cell_type": "code",
   "execution_count": null,
   "id": "c4b417bf-b086-44b3-b5a9-4f5f6368aea0",
   "metadata": {},
   "outputs": [],
   "source": [
    "txt_size=12\n",
    "label_size=10\n",
    "fig, ax=plt.subplots(nrows=2, ncols=3, sharey= True, figsize=(10,5), dpi=200)\n",
    "variables_name=['pH', 'Conductivity (uS/cm)', 'Temperature ($^o$ C)', 'ORP (mV)', 'Occupancy']\n",
    "axes=ax.flatten()\n",
    "for i_inde in range (5):\n",
    "    results = partial_dependence(rfm,X_train, [i_inde],grid_resolution=20000,percentiles=[0, 1])\n",
    "    axes[i_inde].plot(np.array(results[\"values\"]).flatten(),np.array(results[\"average\"]).flatten(),'k')\n",
    "    axes[i_inde].tick_params(axis='both', direction='in',labelsize=label_size) \n",
    "    axes[i_inde].set_xlabel(variables_name[i_inde], fontsize=txt_size)\n",
    "    sns.rugplot(X_train.iloc[:,i_inde],ax=axes[i_inde],c='k', alpha=0.03,height=0.03)\n",
    "axes[0].set_ylabel('Predicted Chlorine (ppm)', fontsize=txt_size)\n",
    "axes[3].set_ylabel('Predicted Chlorine (ppm)', fontsize=txt_size)\n",
    "fig.delaxes(axes[-1])\n",
    "fig.tight_layout() \n",
    "plt.show()"
   ]
  },
  {
   "cell_type": "markdown",
   "id": "fe915e38-bc5e-4232-89f6-ed10bd7d3df0",
   "metadata": {},
   "source": [
    "# AUTOcorrelation of Xnp.arange(0,1, .2)"
   ]
  },
  {
   "cell_type": "code",
   "execution_count": null,
   "id": "b820c3e6-304b-4c74-8bcf-d2f831c17de4",
   "metadata": {},
   "outputs": [],
   "source": [
    "txt_size=12\n",
    "label_size=10\n",
    "fig, ax=plt.subplots(nrows=2, ncols=3,figsize=(10,5), dpi=200)\n",
    "name_origin=['pH','Conductivity.uS.','Temperature.C.','ORP.mV.','ISTB4.Sum','Chlorine.ppm.']\n",
    "variables_name=['pH', 'Conductivity (uS/cm)', 'Temperature ($^o$ C)', 'ORP (mV)', 'Occupancy','Chlorine (ppm)']\n",
    "axes=ax.flatten()\n",
    "time_in8hour=np.array(list(range(1,96)))*5/60\n",
    "for k_indx in range (len(name_origin)):\n",
    "    auto=[pd.Series(df[name_origin[k_indx]]).autocorr(lag=i_xx) for i_xx in range (1,96)]\n",
    "    axes[k_indx].plot(time_in8hour,np.array(auto), 'k','o-', markersize=2)\n",
    "    axes[k_indx].set_yticks(ticks=np.arange(0,1.2, .2),labels=['0','0.2','0.4','0.6','0.8','1'])\n",
    "    axes[k_indx].tick_params(direction='in',labelsize=label_size)\n",
    "    axes[k_indx].set_xlabel('Lag (hours)', fontsize=txt_size)\n",
    "    axes[k_indx].set_ylabel(variables_name[k_indx], fontsize=txt_size)\n",
    "fig.tight_layout() \n",
    "plt.show()"
   ]
  },
  {
   "cell_type": "markdown",
   "id": "d19b3016-17b0-4c76-9d75-e111a30e857b",
   "metadata": {},
   "source": [
    "# correlation"
   ]
  },
  {
   "cell_type": "code",
   "execution_count": null,
   "id": "56d7a6f3-16d9-4952-9eaf-eafed1784bbe",
   "metadata": {},
   "outputs": [],
   "source": [
    "name_origin=['pH','Conductivity.uS.','Temperature.C.','ORP.mV.','ISTB4.Sum','Chlorine.ppm.']\n",
    "\n",
    "corr=np.corrcoef(df[name_origin], rowvar=False)"
   ]
  },
  {
   "cell_type": "code",
   "execution_count": null,
   "id": "ec93a436-e329-4780-9abc-02be3455b0af",
   "metadata": {},
   "outputs": [],
   "source": [
    "corr"
   ]
  },
  {
   "cell_type": "code",
   "execution_count": null,
   "id": "36c8beaa-c66f-41df-afd8-63ebb41e5297",
   "metadata": {},
   "outputs": [],
   "source": [
    "txt_size=13\n",
    "label_size=9\n",
    "from matplotlib.colors import CenteredNorm\n",
    "\n",
    "fig,axes=plt.subplots(nrows=1, ncols=1, sharey='all',figsize=(5,3),dpi=200)\n",
    "axes =sns.heatmap(corr,cmap='bwr',square=True,linewidths=0.35, center=0,linecolor='white'\n",
    "                  , cbar_kws={'label': 'Correlation coefficient'}\n",
    "                 )# axes.invert_yaxis()\n",
    "\n",
    "axes.set_xticks(ticks=np.arange(0.5,6.5, 1),labels=variables_name,rotation=90)\n",
    "axes.set_yticks(ticks=np.arange(0.5,6.5, 1),labels=variables_name,rotation=0)\n",
    "axes.tick_params(labelsize=label_size,length=2)\n"
   ]
  },
  {
   "cell_type": "markdown",
   "id": "cf818415-6de6-405f-ae9b-d11c8417556b",
   "metadata": {},
   "source": [
    "# variable IMPORTANCE"
   ]
  },
  {
   "cell_type": "code",
   "execution_count": null,
   "id": "bfa22a45-4c6f-4dcb-bcee-81830edc439a",
   "metadata": {},
   "outputs": [],
   "source": [
    "\n",
    "\n",
    "variables_name=['pH', 'Conductivity', 'Temperature', 'ORP', 'Occupancy']\n",
    "\n",
    "varplot=pd.DataFrame(data= plot_vari_imp, index=variables_name, columns=['gini'])\n",
    "dfx = varplot.sort_values('gini',ascending=False)\n",
    "fig, ax=plt.subplots(nrows=1, ncols=1, sharey= True, figsize=(5,3), dpi=200)\n",
    "\n",
    "ax.bar(dfx.index,dfx['gini'])\n",
    "ax.set_ylabel('Variable importance',fontsize=txt_size)\n",
    "ax.xaxis.set_ticks_position('both')\n",
    "ax.tick_params(direction='in',labelsize=label_size)\n",
    "ax.yaxis.set_ticks_position('both')\n",
    "# ax.set_xticks(variables_name, fontsize=label_size)\n",
    "plt.show()"
   ]
  },
  {
   "cell_type": "code",
   "execution_count": null,
   "id": "93985634-7433-46f2-b642-c30501a28ebf",
   "metadata": {},
   "outputs": [],
   "source": []
  },
  {
   "cell_type": "markdown",
   "id": "77b81abc-bd8a-46e3-89df-e7077385626d",
   "metadata": {},
   "source": [
    "# RF zoom in time series"
   ]
  },
  {
   "cell_type": "code",
   "execution_count": null,
   "id": "3a924774-ef89-4865-8bd6-6ed963a6127a",
   "metadata": {},
   "outputs": [],
   "source": [
    "test_tm=pd.DataFrame ( data= list(zip(y_test, yhte)), index =y_test.index, columns=['insitu','rf'])\n",
    "test_sort=test_tm.sort_index()"
   ]
  },
  {
   "cell_type": "code",
   "execution_count": null,
   "id": "a755b22d-1ed9-4589-9a73-7f6f93956762",
   "metadata": {},
   "outputs": [],
   "source": [
    "y_train.sort_index().index"
   ]
  },
  {
   "cell_type": "code",
   "execution_count": null,
   "id": "623d4ea4-876d-4553-8cf8-2a4442be4876",
   "metadata": {},
   "outputs": [],
   "source": [
    "from mpl_toolkits.axes_grid1.inset_locator import zoomed_inset_axes\n",
    "from mpl_toolkits.axes_grid1.inset_locator import mark_inset"
   ]
  },
  {
   "cell_type": "code",
   "execution_count": null,
   "id": "e8c75286-f865-429f-ab0c-1382e8ac6add",
   "metadata": {},
   "outputs": [],
   "source": [
    "from matplotlib import rc\n",
    "from matplotlib.patches import ConnectionPatch\n",
    "rc('font',**{'family':'serif','serif':['Times']})\n",
    "# rc.rcParams['font.size'] = 12\n",
    "rc('text', usetex=True)\n",
    "txt_size=13\n",
    "label_size=10\n",
    "\n",
    "\n",
    "zoom_start=41000\n",
    "zoom_end=42000\n",
    "# fig, axes = plt.subplots(figsize=[10,4])\n",
    "fig = plt.figure(figsize=(10, 5), dpi=200)\n",
    "b_right = fig.add_subplot(2, 2, 4)\n",
    "b_left= fig.add_subplot(2, 2, 3)\n",
    "main = fig.add_subplot(2, 1, 1)\n",
    "fig.subplots_adjust(hspace=.35)\n",
    "# fig,axes=plt.subplots(nrows=1, ncols=1, sharey='all',figsize=(10,5),dpi=200)\n",
    "# axes.plot(test_sort.index,test_sort.insitu,  color='k',label='Insitu')\n",
    "main.plot(Cl_y.index, Cl_y,color='k',label='Insitu')\n",
    "# main.scatter(y_train.sort_index().index, y_train.sort_index(),color='orange',marker='o',s=1,linestyle='-',label='Insitu')\n",
    "main.plot(test_sort.index,test_sort.rf, linestyle='-',  color='b',label='RF test')\n",
    "\n",
    "main.legend()\n",
    "main.set_xlabel('Time step',fontsize=txt_size)\n",
    "main.set_ylabel('Chlorine(ppm) ',fontsize=txt_size)\n",
    "main.tick_params(axis='both', direction='in',labelsize=label_size) \n",
    "\n",
    "\n",
    "\n",
    "\n",
    "\n",
    "b_right.scatter(Cl_y.index, Cl_y,color='k',s=5,label='Insitu')\n",
    "b_right.scatter(test_sort.index,test_sort.rf,color='b',marker='^',s=5,linestyle='-', label='RF test')\n",
    "b_right.set_xlim(zoom_start,zoom_end)\n",
    "b_left.scatter(y_test,yhte,  color='b', marker='s', s=2, alpha=0.5, label='RF')\n",
    "b_left.plot(y_test,y_test,  color='k')\n",
    "\n",
    "\n",
    "b_left.set_xlabel('Chlorine measured (ppm)', fontsize=txt_size)\n",
    "\n",
    "\n",
    "b_left.set_ylabel('Chlorine predicted (ppm)', fontsize=txt_size)\n",
    "b_left.text(0.5, 0.05, '$R^2=$' +str(round(r2_score(y_test,yhte),3))+'\\n'+ '$RMSE=$'+str(round(mean_squared_error (y_test,yhte)**0.5,3))\n",
    "            +'(ppm)'\n",
    "            ,  transform=b_left.transAxes,color=\"k\", fontsize=txt_size)\n",
    "\n",
    "b_left.tick_params(labelsize=label_size)\n",
    "b_left.tick_params(labelsize=label_size)\n",
    "b_left.tick_params(axis='both', direction='in',labelsize=label_size) \n",
    "b_right.tick_params(axis='both', direction='in',labelsize=label_size) \n",
    "\n",
    "\n",
    "\n",
    "fig.add_artist(ConnectionPatch(\n",
    "    xyA=(0, 1), coordsA=b_right.transAxes,\n",
    "    xyB=(zoom_start, Cl_y[zoom_start]), coordsB=main.transData,\n",
    "    color='r'\n",
    "))\n",
    "\n",
    "fig.add_artist(ConnectionPatch(\n",
    "    xyA=(1, 1), coordsA=b_right.transAxes,\n",
    "    xyB=(zoom_end, Cl_y[zoom_end]), coordsB=main.transData,\n",
    "    color='r'\n",
    "))\n",
    "main.axvspan(zoom_start, zoom_end, facecolor='r', alpha=0.5,zorder=-100)\n",
    "plt.tight_layout()"
   ]
  },
  {
   "cell_type": "code",
   "execution_count": null,
   "id": "3814a108-778f-495e-be64-5d8246e61bb7",
   "metadata": {},
   "outputs": [],
   "source": [
    "\n",
    "# plt.scatter(np.array(list(range(len(yhte))))+55000, yhte,color='blue',s=3, label='RF', alpha=0.5)\n",
    "# plt.scatter(np.array(list(range(len(yhte))))+55000, y_test, color='orange', s=3, label='In situ', alpha=0.5)\n",
    "# plt.ylabel('Chlorin')\n",
    "# plt.xlabel('time')\n",
    "# plt.legend()\n",
    "# plt.title('test data time series')"
   ]
  },
  {
   "cell_type": "code",
   "execution_count": null,
   "id": "f8e9c0b9-6226-4c3e-8780-a7af64475ca6",
   "metadata": {},
   "outputs": [],
   "source": [
    "# \"' N time step ahead time order with chlorine'\"\n",
    "# step_list=list(range(1,96))\n",
    "# step_list[0]=1\n",
    "# r2_te_list=[]\n",
    "# r2_tr_list=[]\n",
    "# mse_tr=[]\n",
    "# mse_te=[]\n",
    "# for step in step_list:\n",
    "#     # step=1\n",
    "#     X_train =norm(Cl_x[:55000],Cl_x[:55000])\n",
    "#     y_train =Cl_y[step:55000+step]\n",
    "\n",
    "#     X_test =norm(Cl_x[55000:len(Cl_x)-step],Cl_x[:55000])\n",
    "#     y_test =Cl_y[55000+step:]\n",
    "#     rfm = RandomForestRegressor(n_jobs=-1,n_estimators=800,random_state=random_seed,max_features=5,min_samples_leaf=80)\n",
    "#     rfm.fit(X_train,y_train)\n",
    "#     vari_imp_mn=rfm.feature_importances_\n",
    "#     hpa_yh= rfm.predict(X_train)\n",
    "#     yhte= rfm.predict(X_test)\n",
    "#     yhtr=rfm.predict(X_train)\n",
    "#     r2_tr_list.append(r2_score(y_train,yhtr))\n",
    "#     r2_te_list.append(r2_score(y_test,yhte))\n",
    "#     mse_tr.append(mean_squared_error(y_train,yhtr))\n",
    "#     mse_te.append(mean_squared_error(y_test,yhte))"
   ]
  },
  {
   "cell_type": "code",
   "execution_count": 6,
   "id": "cb90bfa8-e28a-4c58-aca6-1e06dc47b340",
   "metadata": {},
   "outputs": [],
   "source": [
    "\"' N time step ahead random shuffle'\"\n",
    "step_list=list(range(1,96))\n",
    "step_list[0]=1\n",
    "r2_te_list=[]\n",
    "r2_tr_list=[]\n",
    "mse_tr=[]\n",
    "mse_te=[]\n",
    "var_im=[]\n",
    "pmut_im=[]\n",
    "y_te_pred_all=[]\n",
    "y_te_all=[]\n",
    "\n",
    "x_tr_all=[]\n",
    "x_te_all=[]\n",
    "y_tr_all=[]\n",
    "for step in step_list:\n",
    "    # step=1\n",
    "    Cl_xstep1=Cl_x[:len(Cl_x)-step]\n",
    "    Cl_ystep1=Cl_y[step:]\n",
    "    X_train,X_test,y_train,y_test=train_test_split(Cl_xstep1,Cl_ystep1 ,test_size=0.2, random_state=random_seed)\n",
    "    rfm = RandomForestRegressor(n_jobs=-1,n_estimators=800,random_state=random_seed,max_features=3,min_samples_leaf=20)\n",
    "    rfm.fit(X_train,y_train)\n",
    "    vari_imp_mn=rfm.feature_importances_\n",
    "    # hpa_yh= rfm.predict(X_train)\n",
    "    yhte= rfm.predict(X_test)\n",
    "    # yhtr=rfm.predict(X_train)\n",
    "    # plot_vari_imp=rfm.feature_importances_\n",
    "    # resultss = permutation_importance(rfm, X_train, y_train, n_repeats=10,\n",
    "    #                             random_state=0)\n",
    "    y_te_pred_all.append(yhte)\n",
    "    x_tr_all.append(X_train)\n",
    "    y_tr_all.append(y_train)\n",
    "    x_te_all.append(X_test)\n",
    "    y_te_all.append(y_test)\n",
    "    # pmut_im.append(resultss.importances_mean)\n",
    "    # r2_tr_list.append(r2_score(y_train,yhtr))\n",
    "    # r2_te_list.append(r2_score(y_test,yhte))\n",
    "    # mse_tr.append(mean_squared_error(y_train,yhtr))\n",
    "    # mse_te.append(mean_squared_error(y_test,yhte))\n",
    "    # var_im.append(plot_vari_imp)"
   ]
  },
  {
   "cell_type": "code",
   "execution_count": 13,
   "id": "86297225-5d18-48bf-bc9b-d0bf4bae1d7b",
   "metadata": {},
   "outputs": [
    {
     "data": {
      "text/plain": [
       "95"
      ]
     },
     "execution_count": 13,
     "metadata": {},
     "output_type": "execute_result"
    }
   ],
   "source": [
    "len(y_te_pred_all)"
   ]
  },
  {
   "cell_type": "code",
   "execution_count": 16,
   "id": "62dd8e99-5a7d-492b-9c95-32cdd23169b0",
   "metadata": {},
   "outputs": [],
   "source": [
    "for i in range (len(y_te_pred_all)):\n",
    "    x_tr_all[i]['Chlorine']=y_tr_all[i]\n",
    "    x_te_all[i]['Chlorine']=y_te_all[i]\n",
    "    x_te_all[i]['Chlorine_pred']=y_te_pred_all[i]\n",
    "    np.savez('D:/istb_4/data/rf_regression/step_'+ str(i+1)+'.npz',te=x_te_all[i],tr=x_tr_all[i])"
   ]
  },
  {
   "cell_type": "code",
   "execution_count": 20,
   "id": "c8a85237-27b5-4810-930a-fa03eeb48b19",
   "metadata": {},
   "outputs": [],
   "source": [
    "df['Time'].to_csv('D:/istb_4/data/rf_regression/time_index.csv')"
   ]
  },
  {
   "cell_type": "code",
   "execution_count": 21,
   "id": "d05e6c39-10d5-424f-b579-4e39fc9b763d",
   "metadata": {},
   "outputs": [
    {
     "data": {
      "text/html": [
       "<div>\n",
       "<style scoped>\n",
       "    .dataframe tbody tr th:only-of-type {\n",
       "        vertical-align: middle;\n",
       "    }\n",
       "\n",
       "    .dataframe tbody tr th {\n",
       "        vertical-align: top;\n",
       "    }\n",
       "\n",
       "    .dataframe thead th {\n",
       "        text-align: right;\n",
       "    }\n",
       "</style>\n",
       "<table border=\"1\" class=\"dataframe\">\n",
       "  <thead>\n",
       "    <tr style=\"text-align: right;\">\n",
       "      <th></th>\n",
       "      <th>pH</th>\n",
       "      <th>Conductivity.uS.</th>\n",
       "      <th>Temperature.C.</th>\n",
       "      <th>ORP.mV.</th>\n",
       "      <th>ISTB4.Sum</th>\n",
       "      <th>Chlorine</th>\n",
       "      <th>Chlorine_pred</th>\n",
       "    </tr>\n",
       "  </thead>\n",
       "  <tbody>\n",
       "    <tr>\n",
       "      <th>12386</th>\n",
       "      <td>8.07</td>\n",
       "      <td>993.1</td>\n",
       "      <td>28.37</td>\n",
       "      <td>504.1</td>\n",
       "      <td>84</td>\n",
       "      <td>0.17</td>\n",
       "      <td>0.195629</td>\n",
       "    </tr>\n",
       "    <tr>\n",
       "      <th>13467</th>\n",
       "      <td>8.22</td>\n",
       "      <td>1091.0</td>\n",
       "      <td>26.65</td>\n",
       "      <td>508.5</td>\n",
       "      <td>29</td>\n",
       "      <td>NaN</td>\n",
       "      <td>0.191511</td>\n",
       "    </tr>\n",
       "    <tr>\n",
       "      <th>53181</th>\n",
       "      <td>7.83</td>\n",
       "      <td>1312.0</td>\n",
       "      <td>28.04</td>\n",
       "      <td>729.4</td>\n",
       "      <td>10</td>\n",
       "      <td>NaN</td>\n",
       "      <td>0.190285</td>\n",
       "    </tr>\n",
       "    <tr>\n",
       "      <th>45823</th>\n",
       "      <td>7.99</td>\n",
       "      <td>719.8</td>\n",
       "      <td>27.68</td>\n",
       "      <td>558.0</td>\n",
       "      <td>4</td>\n",
       "      <td>NaN</td>\n",
       "      <td>0.170527</td>\n",
       "    </tr>\n",
       "    <tr>\n",
       "      <th>49227</th>\n",
       "      <td>8.03</td>\n",
       "      <td>1047.0</td>\n",
       "      <td>28.58</td>\n",
       "      <td>622.0</td>\n",
       "      <td>4</td>\n",
       "      <td>NaN</td>\n",
       "      <td>0.188138</td>\n",
       "    </tr>\n",
       "    <tr>\n",
       "      <th>...</th>\n",
       "      <td>...</td>\n",
       "      <td>...</td>\n",
       "      <td>...</td>\n",
       "      <td>...</td>\n",
       "      <td>...</td>\n",
       "      <td>...</td>\n",
       "      <td>...</td>\n",
       "    </tr>\n",
       "    <tr>\n",
       "      <th>3727</th>\n",
       "      <td>7.95</td>\n",
       "      <td>940.3</td>\n",
       "      <td>26.86</td>\n",
       "      <td>429.9</td>\n",
       "      <td>18</td>\n",
       "      <td>0.31</td>\n",
       "      <td>0.306007</td>\n",
       "    </tr>\n",
       "    <tr>\n",
       "      <th>28136</th>\n",
       "      <td>8.32</td>\n",
       "      <td>1514.0</td>\n",
       "      <td>24.91</td>\n",
       "      <td>664.0</td>\n",
       "      <td>31</td>\n",
       "      <td>NaN</td>\n",
       "      <td>0.189216</td>\n",
       "    </tr>\n",
       "    <tr>\n",
       "      <th>29847</th>\n",
       "      <td>8.37</td>\n",
       "      <td>1022.0</td>\n",
       "      <td>24.85</td>\n",
       "      <td>640.0</td>\n",
       "      <td>17</td>\n",
       "      <td>NaN</td>\n",
       "      <td>0.257081</td>\n",
       "    </tr>\n",
       "    <tr>\n",
       "      <th>40011</th>\n",
       "      <td>7.78</td>\n",
       "      <td>1310.0</td>\n",
       "      <td>26.37</td>\n",
       "      <td>265.0</td>\n",
       "      <td>7</td>\n",
       "      <td>NaN</td>\n",
       "      <td>0.268165</td>\n",
       "    </tr>\n",
       "    <tr>\n",
       "      <th>20603</th>\n",
       "      <td>8.21</td>\n",
       "      <td>1479.0</td>\n",
       "      <td>26.93</td>\n",
       "      <td>217.5</td>\n",
       "      <td>8</td>\n",
       "      <td>NaN</td>\n",
       "      <td>0.151433</td>\n",
       "    </tr>\n",
       "  </tbody>\n",
       "</table>\n",
       "<p>14682 rows × 7 columns</p>\n",
       "</div>"
      ],
      "text/plain": [
       "         pH  Conductivity.uS.  Temperature.C.  ORP.mV.  ISTB4.Sum  Chlorine  \\\n",
       "12386  8.07             993.1           28.37    504.1         84      0.17   \n",
       "13467  8.22            1091.0           26.65    508.5         29       NaN   \n",
       "53181  7.83            1312.0           28.04    729.4         10       NaN   \n",
       "45823  7.99             719.8           27.68    558.0          4       NaN   \n",
       "49227  8.03            1047.0           28.58    622.0          4       NaN   \n",
       "...     ...               ...             ...      ...        ...       ...   \n",
       "3727   7.95             940.3           26.86    429.9         18      0.31   \n",
       "28136  8.32            1514.0           24.91    664.0         31       NaN   \n",
       "29847  8.37            1022.0           24.85    640.0         17       NaN   \n",
       "40011  7.78            1310.0           26.37    265.0          7       NaN   \n",
       "20603  8.21            1479.0           26.93    217.5          8       NaN   \n",
       "\n",
       "       Chlorine_pred  \n",
       "12386       0.195629  \n",
       "13467       0.191511  \n",
       "53181       0.190285  \n",
       "45823       0.170527  \n",
       "49227       0.188138  \n",
       "...              ...  \n",
       "3727        0.306007  \n",
       "28136       0.189216  \n",
       "29847       0.257081  \n",
       "40011       0.268165  \n",
       "20603       0.151433  \n",
       "\n",
       "[14682 rows x 7 columns]"
      ]
     },
     "execution_count": 21,
     "metadata": {},
     "output_type": "execute_result"
    }
   ],
   "source": [
    "x_te_all[i]"
   ]
  },
  {
   "cell_type": "code",
   "execution_count": null,
   "id": "131b3cdd-1950-4daf-9795-43a69c0b819c",
   "metadata": {},
   "outputs": [],
   "source": [
    "np.save('D:/istb_4/rf_regression/step_ahead_random_shuffle_mse_tr_list_8hr.npy',mse_tr)\n",
    "np.save('D:/istb_4/rf_regression/step_ahead_random_shuffle_mse_te_list_8hr.npy',mse_te)\n",
    "np.save('D:/istb_4/rf_regression/step_ahead_random_shuffle_r2_tr_list_8hr.npy',r2_tr_list)\n",
    "np.save('D:/istb_4/rf_regression/step_ahead_random_shuffle_r2_te_list_8hr.npy',r2_te_list)\n",
    "np.save('D:/istb_4/rf_regression/step_ahead_random_shuffle_step_list_8hr.npy',step_list)\n",
    "np.save('D:/istb_4/rf_regression/step_ahead_random_shuffle_RFR_varimp8hr.npy',var_im)\n"
   ]
  },
  {
   "cell_type": "code",
   "execution_count": null,
   "id": "b5fd7731-c840-4218-9af3-78603684381f",
   "metadata": {},
   "outputs": [],
   "source": [
    "np.save('D:/istb_4/rf_regression/varimp_permutation.npy',pmut_im)\n"
   ]
  },
  {
   "cell_type": "code",
   "execution_count": null,
   "id": "047f5a85-078b-4332-9532-4e25702674db",
   "metadata": {},
   "outputs": [],
   "source": [
    "mse_tr=np.load('D:/istb_4/random_forest/step_ahead_random_shuffle_mse_tr_list_8hr.npy')\n",
    "mse_te=np.load('D:/istb_4/random_forest/step_ahead_random_shuffle_mse_te_list_8hr.npy')\n",
    "r2_tr_list=np.load('D:/istb_4/random_forest/step_ahead_random_shuffle_r2_tr_list_8hr.npy')\n",
    "r2_te_list=np.load('D:/istb_4/random_forest/step_ahead_random_shuffle_r2_te_list_8hr.npy')\n",
    "step_list=np.load('D:/istb_4/random_forest/step_ahead_random_shuffle_step_list_8hr.npy')"
   ]
  },
  {
   "cell_type": "code",
   "execution_count": null,
   "id": "edbb67b7-58f5-48e3-92d6-b3104e93b0a1",
   "metadata": {},
   "outputs": [],
   "source": [
    "\n",
    "txt_size=13\n",
    "label_size=10\n",
    "fig, ax=plt.subplots(nrows=1, ncols=1, sharey= True, figsize=(4,3), dpi=200)\n",
    "ax.plot(np.array(step_list)*5/60,np.array(mse_tr)**0.5, 'r',markersize=3,label='RF regression Train')\n",
    "ax.plot(np.array(step_list)*5/60,np.array(mse_te)**0.5,'b', marker='^', markersize=3,label='RF regression Test')\n",
    "# ax.set_ylim([80,100])\n",
    "ax.legend()\n",
    "ax.set_xlabel('Time ahead (hr)',fontsize=txt_size)\n",
    "ax.set_ylabel('$RMSE$ (ppm) ',fontsize=txt_size)\n",
    "ax.tick_params(axis='both', direction='in',labelsize=label_size) \n",
    "plt.show()"
   ]
  },
  {
   "cell_type": "code",
   "execution_count": null,
   "id": "6ee8a60c-de9a-4687-ad0f-f904d872fcaa",
   "metadata": {},
   "outputs": [],
   "source": [
    "from matplotlib import rc\n",
    "rc('font',**{'family':'serif','serif':['Times']})\n",
    "# rc.rcParams['font.size'] = 12\n",
    "rc('text', usetex=True)\n",
    "txt_size=13\n",
    "label_size=10\n",
    "fig, ax=plt.subplots(nrows=1, ncols=1, sharey= True, figsize=(4,3), dpi=200)\n",
    "ax.plot(np.array(step_list)*5/60,r2_tr_list, 'r',markersize=3,label='RF regression Train')\n",
    "ax.plot(np.array(step_list)*5/60,r2_te_list,'k', marker='^', markersize=3,label='RF regression test')\n",
    "# ax.set_ylim([80,100])\n",
    "# ax.legend()\n",
    "ax.set_xlabel('Time ahead (hr)',fontsize=txt_size)\n",
    "ax.set_ylabel('$R^2$ ',fontsize=txt_size)\n",
    "ax.tick_params(axis='both', direction='in',labelsize=label_size) \n",
    "plt.show()"
   ]
  },
  {
   "cell_type": "code",
   "execution_count": null,
   "id": "10f45d13-aa8f-4300-8d34-3178d8306ce9",
   "metadata": {},
   "outputs": [],
   "source": [
    "\n",
    "\n"
   ]
  },
  {
   "cell_type": "code",
   "execution_count": null,
   "id": "51c1e438-764f-4ee5-9a93-7ce0439c6338",
   "metadata": {},
   "outputs": [],
   "source": [
    "from matplotlib import rc\n",
    "rc('font',**{'family':'serif','serif':['Times']})\n",
    "# rc.rcParams['font.size'] = 12\n",
    "rc('text', usetex=True)\n",
    "txt_size=13\n",
    "label_size=10\n",
    "mean_var_im=np.array(pmut_im).mean(axis=0)\n",
    "variables_name=['pH', 'Conductivity', 'Temperature', 'ORP', 'Occupancy']\n",
    "\n",
    "varplot=pd.DataFrame(data= mean_var_im, index=variables_name, columns=['gini'])\n",
    "dfx = varplot.sort_values('gini',ascending=False)\n",
    "fig, ax=plt.subplots(nrows=1, ncols=1, sharey= True, figsize=(5,3), dpi=200)\n",
    "\n",
    "ax.bar(dfx.index,dfx['gini']/dfx['gini'].sum())\n",
    "ax.set_ylabel('Variable importance',fontsize=txt_size)\n",
    "ax.xaxis.set_ticks_position('both')\n",
    "ax.tick_params(direction='in',labelsize=label_size)\n",
    "ax.yaxis.set_ticks_position('both')\n",
    "# ax.set_xticks(variables_name, fontsize=label_size)\n",
    "plt.show()\n"
   ]
  },
  {
   "cell_type": "code",
   "execution_count": null,
   "id": "38375035-35da-430e-8d9b-783aaa2ce118",
   "metadata": {},
   "outputs": [],
   "source": []
  },
  {
   "cell_type": "code",
   "execution_count": null,
   "id": "ede30f2b-005e-45f6-ad68-c20d46cd0b0b",
   "metadata": {},
   "outputs": [],
   "source": []
  },
  {
   "cell_type": "code",
   "execution_count": null,
   "id": "2df7ee40-f67c-46d0-8b2b-7acdfe4131e1",
   "metadata": {},
   "outputs": [],
   "source": []
  },
  {
   "cell_type": "code",
   "execution_count": null,
   "id": "46c7888b-e17a-467e-a095-eec0a7cf5c57",
   "metadata": {},
   "outputs": [],
   "source": []
  },
  {
   "cell_type": "code",
   "execution_count": null,
   "id": "ec54a322-cf0d-4f0e-a650-663f92674588",
   "metadata": {},
   "outputs": [],
   "source": []
  },
  {
   "cell_type": "code",
   "execution_count": null,
   "id": "b80a23a6-6afe-4bde-98a8-c7b4dcac7b2c",
   "metadata": {},
   "outputs": [],
   "source": []
  },
  {
   "cell_type": "code",
   "execution_count": null,
   "id": "616444c1-9160-40bc-b570-e4bed47d0c57",
   "metadata": {},
   "outputs": [],
   "source": []
  },
  {
   "cell_type": "code",
   "execution_count": null,
   "id": "3d27f1f3-ae98-4eec-9942-9ed15f1af68a",
   "metadata": {},
   "outputs": [],
   "source": []
  },
  {
   "cell_type": "code",
   "execution_count": null,
   "id": "3218380f-3c15-4d14-9231-3775844762a9",
   "metadata": {},
   "outputs": [],
   "source": []
  },
  {
   "cell_type": "code",
   "execution_count": null,
   "id": "89dfbd07-c23a-4458-993c-0a59ab37abfc",
   "metadata": {},
   "outputs": [],
   "source": []
  }
 ],
 "metadata": {
  "kernelspec": {
   "display_name": "lstm",
   "language": "python",
   "name": "lstm"
  },
  "language_info": {
   "codemirror_mode": {
    "name": "ipython",
    "version": 3
   },
   "file_extension": ".py",
   "mimetype": "text/x-python",
   "name": "python",
   "nbconvert_exporter": "python",
   "pygments_lexer": "ipython3",
   "version": "3.9.12"
  },
  "toc-showcode": true
 },
 "nbformat": 4,
 "nbformat_minor": 5
}
