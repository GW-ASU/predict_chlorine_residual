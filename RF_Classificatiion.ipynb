{
 "cells": [
  {
   "cell_type": "code",
   "execution_count": 1,
   "id": "827a4452-9e87-4d6f-89b3-086a3acc28ee",
   "metadata": {},
   "outputs": [],
   "source": [
    "from sklearn.inspection import partial_dependence\n",
    "import seaborn as sns\n",
    "import numpy as np\n",
    "import pandas as pd\n",
    "from sklearn.inspection import permutation_importance\n",
    "\n",
    "from matplotlib import pyplot as plt\n",
    "import warnings\n",
    "from sklearn.model_selection import train_test_split\n",
    "import matplotlib.dates as mdate\n",
    "import time\n",
    "import random\n",
    "from sklearn.ensemble import RandomForestClassifier\n",
    "random_seed=251\n",
    "random.seed(random_seed)\n",
    "np.random.seed(random_seed)\n",
    "from sklearn.metrics import accuracy_score\n",
    "from sklearn.metrics import confusion_matrix\n",
    "from matplotlib import rc\n",
    "rc('font',**{'family':'serif','serif':['Times']})\n",
    "# rc.rcParams['font.size'] = 12\n",
    "rc('text', usetex=True)"
   ]
  },
  {
   "cell_type": "code",
   "execution_count": 2,
   "id": "7320c496-174c-4adb-89e3-364c516dc51d",
   "metadata": {},
   "outputs": [],
   "source": [
    "# moving_window=12\n",
    "\n",
    "df= pd.read_csv('D:/istb_4/ISTB4_fillcombdata2.csv')\n",
    "\n",
    "def norm(df1,df2):\n",
    "    df1_norm=(df1-df2.min())/(df2.max()-df2.min())\n",
    "    return df1_norm"
   ]
  },
  {
   "cell_type": "code",
   "execution_count": null,
   "id": "5ba43244-a15e-4508-9b8a-4629e60bd08f",
   "metadata": {},
   "outputs": [],
   "source": []
  },
  {
   "cell_type": "code",
   "execution_count": 3,
   "id": "64343064-5773-4ef9-a82f-b39090c1c76a",
   "metadata": {},
   "outputs": [],
   "source": [
    "\n",
    "Cl_y = np.copy(df['Chlorine.ppm.'])\n",
    "Cl_x =df[['pH','Conductivity.uS.','Temperature.C.','ORP.mV.','ISTB4.Sum']]"
   ]
  },
  {
   "cell_type": "code",
   "execution_count": 4,
   "id": "6d1bf841-e531-44c1-b51c-13285e56f246",
   "metadata": {},
   "outputs": [],
   "source": [
    "Cl_y[Cl_y<=0.2]=1\n",
    "Cl_y[(Cl_y>0.2) & (Cl_y<1) ]=0\n",
    "\n",
    "df.index=pd.to_datetime(df.Time)"
   ]
  },
  {
   "cell_type": "code",
   "execution_count": 5,
   "id": "fa0f485a-0806-4897-bd8a-c0c2aebd71b9",
   "metadata": {},
   "outputs": [
    {
     "data": {
      "text/plain": [
       "((45395,), (28109,))"
      ]
     },
     "execution_count": 5,
     "metadata": {},
     "output_type": "execute_result"
    }
   ],
   "source": [
    "Cl_y[Cl_y==1].shape, Cl_y[Cl_y==0].shape"
   ]
  },
  {
   "cell_type": "code",
   "execution_count": null,
   "id": "b0e7e1f8-0937-45fb-b0b2-a4baaea18778",
   "metadata": {},
   "outputs": [],
   "source": [
    "fig, ax=plt.subplots(nrows=5, ncols=1, sharex= True, figsize=(10,5), dpi=200)\n",
    "axis=ax.flatten()\n",
    "xpp=np.arange(0,len(df.index))[27200:27400]\n",
    "dfpp=df.iloc[27200:27400,:]\n",
    "axis[0].plot(xpp,dfpp['Chlorine.ppm.'],label='Chlorine',linewidth=0.5,color='k',alpha=1)           \n",
    "\n",
    "axis[1].plot(xpp,dfpp['ORP.mV.'],label='ORP.mV.',linewidth=0.5, color='k',alpha=1)           \n",
    "\n",
    "axis[2].plot(xpp,dfpp['pH'],label='pH',linewidth=0.5, color='k',alpha=1)           \n",
    "axis[3].plot(xpp,dfpp['Temperature.C.'],label='Temperature.C.',linewidth=0.5, color='k',alpha=1)           \n",
    "axis[4].plot(xpp,dfpp['Conductivity.uS.'],label='Conductivity.uS.',linewidth=0.5, color='k',alpha=1)   \n",
    "\n",
    "\n",
    "axis[0].set_ylabel('Chlorine')\n",
    "axis[1].set_ylabel('ORP.mV')\n",
    "axis[2].set_ylabel('pH')\n",
    "\n",
    "axis[3].set_ylabel('Temperature.C.')\n",
    "axis[4].set_ylabel('Conductivity.uS')\n",
    "plt.grid()"
   ]
  },
  {
   "cell_type": "code",
   "execution_count": null,
   "id": "154204c4-2d1a-4d55-86aa-857cb243926f",
   "metadata": {},
   "outputs": [],
   "source": [
    "\n",
    "\n",
    "\n",
    "\n",
    "fig, ax2=plt.subplots(nrows=1, ncols=1, sharex= True, figsize=(8,4), dpi=200)\n",
    "\n",
    "ax1 = ax2.twinx()\n",
    "\n",
    "\n",
    "monthFmt = mdate.DateFormatter('%Y-%b')\n",
    "\n",
    "ax1.bar(df.index, Cl_y, label='label', color='g',alpha=0.01)   \n",
    "\n",
    "ax1.set_xlabel('Time',fontsize=20)\n",
    "ax1.tick_params(axis='y')\n",
    "ax1.xaxis.set_ticks_position('both')\n",
    "ax1.tick_params(direction='in', labelsize=13)\n",
    "\n",
    "ax1.yaxis.set_ticks(np.arange(0, 3, 1))   \n",
    "ax1.set_ylim([0,1])\n",
    "ax1.get_yaxis().set_visible(False)\n",
    "\n",
    "ax2.plot(df.index,df['Chlorine.ppm.'],label='Chlorine',linewidth=2, color='k',alpha=1)           \n",
    "ax2.set_ylabel('Chlorine (ppm)',fontsize=15)\n",
    "# ax2.tick_params(axis='y')\n",
    "ax2.xaxis.set_ticks_position('both')\n",
    "ax2.tick_params(direction='in',labelsize=13)\n",
    "plt.legend()\n",
    "# ax2.set_xticklabels(df.index,fontsize=13,rotation=90)\n",
    "# ax1.set_xticklabels(df.index,fontsize=13,rotation=90)#\n",
    "# plt.tick_params(labelbottom = False)\n",
    "# ax1.xaxis.set_major_locator(mdate.MonthLocator(bymonthday=1))\n",
    "# ax1.xaxis.set_major_formatter(mdate.DateFormatter('%Y-%b'))\n",
    "\n",
    "\n",
    "# ax_leg = ax1.inset_axes([.15, .15, .15, .15])\n",
    "# ax_leg.plot([np.nan], label='Chlorine',linewidth=1, color='k',alpha=1)\n",
    "# ax_leg.bar([np.nan], [np.nan], label='Label', color='g',alpha=0.5)\n",
    "# ax_leg.legend(fontsize=13,facecolor='white', framealpha=1)\n",
    "# ax_leg.axis('off')\n"
   ]
  },
  {
   "cell_type": "code",
   "execution_count": null,
   "id": "ca992d56-abfb-4ba0-948a-b471f3335b2e",
   "metadata": {},
   "outputs": [],
   "source": [
    "\"'  shuffle'\"\n",
    "dx =Cl_x[:-1]\n",
    "dy =Cl_y[1:]\n",
    "\n",
    "\n",
    "X_traincv,X_test,y_traincv,y_test=train_test_split(dx,dy ,test_size=0.2, random_state=random_seed,stratify=dy)\n",
    "X_train,X_cv,y_train,y_cv=train_test_split(X_traincv,y_traincv ,test_size=0.2, random_state=random_seed,stratify=y_traincv)\n",
    "\n",
    "X_train.shape, y_train.shape,X_test.shape, y_test.shape\n"
   ]
  },
  {
   "cell_type": "code",
   "execution_count": null,
   "id": "2fc7f7b9-f3b4-4b1e-b31c-7e61711184ca",
   "metadata": {},
   "outputs": [],
   "source": [
    "# X_train =Cl_x[:40000]\n",
    "# y_train =Cl_y[1:40001]\n",
    "\n",
    "# X_test =Cl_x[40000:50000]\n",
    "# y_test =Cl_y[40001:50001]\n",
    "# X_train.shape, y_train.shape,X_test.shape, y_test.shape"
   ]
  },
  {
   "cell_type": "code",
   "execution_count": null,
   "id": "1b534934-8498-46bb-b704-43db02efcb62",
   "metadata": {},
   "outputs": [],
   "source": [
    "rfm = RandomForestClassifier(n_jobs=-1,n_estimators=800,random_state=random_seed,max_features=4,min_samples_leaf=20)\n",
    "rfm.fit(X_train,y_train)\n",
    "vari_imp_mn=rfm.feature_importances_\n",
    "yhte= rfm.predict(X_test)\n",
    "yhtr=rfm.predict(X_train)\n",
    "# yhcv=rfm.predict(X_cv)"
   ]
  },
  {
   "cell_type": "code",
   "execution_count": null,
   "id": "3f69103d-9fbe-4fd5-a416-df45aef7f86c",
   "metadata": {},
   "outputs": [],
   "source": []
  },
  {
   "cell_type": "code",
   "execution_count": null,
   "id": "28c952fc-1444-44df-a0d7-480fa90e6f95",
   "metadata": {},
   "outputs": [],
   "source": [
    "accuracy_score(y_test, yhte),accuracy_score(y_train, yhtr)#,accuracy_score(y_cv, yhcv)"
   ]
  },
  {
   "cell_type": "code",
   "execution_count": null,
   "id": "3223451d-00cf-436d-a7b8-06eeb5be3532",
   "metadata": {},
   "outputs": [],
   "source": [
    "accuracy_score(y_test, yhte),accuracy_score(y_train, yhtr)#,accuracy_score(y_cv, yhcv)"
   ]
  },
  {
   "cell_type": "code",
   "execution_count": null,
   "id": "9c3c2506-0db3-4bb1-ba77-6955ac0997dd",
   "metadata": {},
   "outputs": [],
   "source": [
    "confusion_matrix(y_test, yhte,labels=[1,0],normalize='all')"
   ]
  },
  {
   "cell_type": "markdown",
   "id": "87a7e29b-c167-4108-a10a-786acd7490e6",
   "metadata": {},
   "source": [
    "# PERMUATATION"
   ]
  },
  {
   "cell_type": "code",
   "execution_count": null,
   "id": "ac3e9adf-fa79-40f2-9543-d9d082d4ff50",
   "metadata": {},
   "outputs": [],
   "source": [
    "from sklearn.inspection import permutation_importance\n",
    "resultss = permutation_importance(rfm, X_train, y_train, n_repeats=10,\n",
    "                                random_state=0)\n"
   ]
  },
  {
   "cell_type": "code",
   "execution_count": null,
   "id": "8447b6ae-0cf4-405b-9161-90a10d52332c",
   "metadata": {},
   "outputs": [],
   "source": [
    "variables_name=['pH', 'Conductivity', 'Temperature', 'ORP', 'Occupancy']\n",
    "\n",
    "forest_importances = pd.DataFrame(data=resultss.importances_mean, index=variables_name, columns=['permute'])\n",
    "kkk_sort=forest_importances.sort_values('permute',ascending=False)\n"
   ]
  },
  {
   "cell_type": "code",
   "execution_count": null,
   "id": "4ed9430a-5535-483e-8e2c-82e86fa36967",
   "metadata": {},
   "outputs": [],
   "source": [
    "from matplotlib import rc\n",
    "rc('font',**{'family':'serif','serif':['Times']})\n",
    "# rc.rcParams['font.size'] = 12\n",
    "rc('text', usetex=True)\n",
    "txt_size=13\n",
    "label_size=10\n",
    "fig, ax=plt.subplots(nrows=1, ncols=1, sharey= True, figsize=(5,3), dpi=200)\n",
    "\n",
    "ax.bar(kkk_sort.index,kkk_sort['permute']/kkk_sort['permute'].sum())\n",
    "ax.set_ylabel('Variable importance',fontsize=txt_size)\n",
    "ax.xaxis.set_ticks_position('both')\n",
    "ax.tick_params(direction='in',labelsize=label_size)\n",
    "ax.yaxis.set_ticks_position('both')\n",
    "ax.set_yticks(ticks=np.arange(0,0.45,.1),labels=['0','0.1','0.2','0.3','0.4'])\n",
    "# ax.set_xticks(variables_name, fontsize=label_size)\n",
    "plt.show()"
   ]
  },
  {
   "cell_type": "code",
   "execution_count": null,
   "id": "be751a98-4887-45c2-9abf-8e8ba88a84d4",
   "metadata": {},
   "outputs": [],
   "source": []
  },
  {
   "cell_type": "markdown",
   "id": "12940a3a-d9fd-486d-bb6d-002d68767c74",
   "metadata": {},
   "source": [
    "# PDP"
   ]
  },
  {
   "cell_type": "code",
   "execution_count": null,
   "id": "073565f9-50e3-4c21-bbcd-a35b6ebe4eb5",
   "metadata": {},
   "outputs": [],
   "source": [
    "from sklearn.inspection import PartialDependenceDisplay\n",
    "PartialDependenceDisplay.from_estimator(rfm,X_train, [0, 1, 2,3,4],kind='both')"
   ]
  },
  {
   "cell_type": "code",
   "execution_count": null,
   "id": "08df71fe-542d-49dd-b80a-6ad9b2d6fbbe",
   "metadata": {},
   "outputs": [],
   "source": [
    "results_value_pdp=[]\n",
    "results_avg_pdp=[]\n",
    "for i_inde in range (5):\n",
    "    results = partial_dependence(rfm,X_train, [i_inde],percentiles=[0, 1],grid_resolution=500)\n",
    "    results_value_pdp.append(np.array(results[\"values\"]).flatten())\n",
    "    results_avg_pdp.append(np.array(results[\"average\"]).flatten())"
   ]
  },
  {
   "cell_type": "code",
   "execution_count": null,
   "id": "250f3afe-8148-4d1a-9385-2f832bf9d675",
   "metadata": {},
   "outputs": [],
   "source": [
    "txt_size=12\n",
    "label_size=10\n",
    "fig, ax=plt.subplots(nrows=2, ncols=3, sharey= True, figsize=(10,5), dpi=200)\n",
    "features = [0, 1, 2,3,4]\n",
    "variables_name=['pH', 'Conductivity (uS/cm)', 'Temperature ($^o$ C)', 'ORP (mV)', 'Occupancy']\n",
    "axes=ax.flatten()\n",
    "for i_inde in range (5):\n",
    "    axes[i_inde].plot(results_value_pdp[i_inde],results_avg_pdp[i_inde],'k')\n",
    "    axes[i_inde].tick_params(axis='both', direction='in',labelsize=label_size) \n",
    "    axes[i_inde].set_xlabel(variables_name[i_inde])\n",
    "\n",
    "    axes[i_inde].set_yticks(ticks=np.arange(0,1.2, .2),labels=['0','0.2','0.4','0.6','0.8','1'])\n",
    "    sns.rugplot(X_train.iloc[:,i_inde],ax=axes[i_inde],c='k', alpha=0.03,height=0.03)\n",
    "axes[0].set_ylabel('Predicted Probility of label 1')\n",
    "axes[3].set_ylabel('Predicted Probility of label 1')\n",
    "fig.delaxes(axes[-1])\n",
    "fig.tight_layout() \n",
    "plt.show()"
   ]
  },
  {
   "cell_type": "code",
   "execution_count": null,
   "id": "f6a8a038-0979-4b39-bd53-61614e919cc7",
   "metadata": {},
   "outputs": [],
   "source": []
  },
  {
   "cell_type": "markdown",
   "id": "be2ec97e-e7ec-4022-abd3-149cafebacfc",
   "metadata": {},
   "source": [
    "# 8 hours results"
   ]
  },
  {
   "cell_type": "code",
   "execution_count": null,
   "id": "42198930-d199-4594-a5cb-139bcc5f7725",
   "metadata": {},
   "outputs": [],
   "source": [
    "step_list=list(range(0,588,12))\n",
    "step_list[0]=1\n",
    "r2_te_list=[]\n",
    "r2_tr_list=[]\n",
    "mse_tr=[]\n",
    "mse_te=[]\n",
    "for step in step_list:\n",
    "    # step=1\n",
    "    X_train =Cl_x[:40000]\n",
    "    y_train =Cl_y[step:40000+step]\n",
    "\n",
    "    X_test =Cl_x[40000:len(Cl_x)-step]\n",
    "    y_test =Cl_y[40000+step:]\n",
    "    rfm = RandomForestClassifier(n_jobs=-1,n_estimators=800,random_state=random_seed,max_features=4,min_samples_leaf=40)\n",
    "    rfm.fit(X_train,y_train)\n",
    "    vari_imp_mn=rfm.feature_importances_\n",
    "    hpa_yh= rfm.predict(X_train)\n",
    "    yhte= rfm.predict(X_test)\n",
    "\n",
    "    yhtr=rfm.predict(X_train)\n",
    "    r2_tr_list.append(r2_score(y_train,yhtr))\n",
    "    r2_te_list.append(r2_score(y_test,yhte))\n",
    "    mse_tr.append(mean_squared_error(y_train,yhtr))\n",
    "    mse_te.append(mean_squared_error(y_test,yhte))"
   ]
  },
  {
   "cell_type": "code",
   "execution_count": 6,
   "id": "7dea30cd-47b0-43c6-9970-e1563a182e2c",
   "metadata": {},
   "outputs": [],
   "source": [
    "\"' N time step ahead random shuffle'\"\n",
    "step_list=list(range(1,96))\n",
    "var_im=[]\n",
    "r2_te_list=[]\n",
    "r2_tr_list=[]\n",
    "con_mat=[]\n",
    "pmut_im=[]\n",
    "\n",
    "\n",
    "y_te_pred_all=[]\n",
    "y_te_all=[]\n",
    "\n",
    "x_tr_all=[]\n",
    "x_te_all=[]\n",
    "y_tr_all=[]\n",
    "\n",
    "\n",
    "for step in step_list:\n",
    "    # step=1\n",
    "    Cl_xstep1=Cl_x[:len(Cl_x)-step]\n",
    "    Cl_ystep1=Cl_y[step:]\n",
    "    X_train,X_test,y_train,y_test=train_test_split(Cl_xstep1,Cl_ystep1 ,test_size=0.2, random_state=random_seed,stratify=Cl_ystep1)\n",
    "    rfm = RandomForestClassifier(n_jobs=-1,n_estimators=800,random_state=random_seed,max_features=4,min_samples_leaf=20)\n",
    "    rfm.fit(X_train,y_train)\n",
    "    vari_imp_mn=rfm.feature_importances_\n",
    "    yhte= rfm.predict(X_test)\n",
    "    # yhtr=rfm.predict(X_train)\n",
    "    y_te_pred_all.append(yhte)\n",
    "    x_tr_all.append(X_train)\n",
    "    y_tr_all.append(y_train)\n",
    "    x_te_all.append(X_test)\n",
    "    y_te_all.append(y_test)\n",
    "    # resultss = permutation_importance(rfm, X_train, y_train, n_repeats=10,\n",
    "    #                             random_state=0)\n",
    "    # pmut_im.append(resultss.importances_mean)\n",
    "    # r2_tr_list.append(accuracy_score(y_train, yhtr))\n",
    "    # r2_te_list.append(accuracy_score(y_test, yhte))\n",
    "    # con_mat.append(confusion_matrix(y_test, yhte,labels=[0,1],normalize='all'))\n",
    "    # var_im.append(vari_imp_mn)"
   ]
  },
  {
   "cell_type": "code",
   "execution_count": 32,
   "id": "0e15189a-010c-4f17-a22a-aee32beefe94",
   "metadata": {},
   "outputs": [],
   "source": [
    "\n"
   ]
  },
  {
   "cell_type": "code",
   "execution_count": 41,
   "id": "a8edf58e-f16c-4786-8181-9c6815b94516",
   "metadata": {},
   "outputs": [],
   "source": [
    "kkkk_test=np.load('D:/istb_4/data/rf_classifier/step_95.npz')"
   ]
  },
  {
   "cell_type": "code",
   "execution_count": null,
   "id": "4728ce72-e588-4ca1-9719-58fd48cf520d",
   "metadata": {},
   "outputs": [],
   "source": [
    "kkkk_test.files"
   ]
  },
  {
   "cell_type": "code",
   "execution_count": null,
   "id": "f20704a2-31be-438c-b5b1-507021468072",
   "metadata": {},
   "outputs": [],
   "source": [
    "kkkk_test['te']"
   ]
  },
  {
   "cell_type": "code",
   "execution_count": 40,
   "id": "00e23f37-108d-4023-9a1a-03e63699c7ee",
   "metadata": {},
   "outputs": [],
   "source": [
    "\n",
    "for i in range (len(y_te_pred_all)):\n",
    "    x_tr_all[i]['Chlorine_label']=y_tr_all[i]\n",
    "    x_te_all[i]['Chlorine_label']=y_te_all[i]\n",
    "    x_te_all[i]['Chlorine_pred_label']=y_te_pred_all[i]\n",
    "    np.savez('D:/istb_4/data/rf_classifier/step_'+ str(i+1)+'.npz',te=x_te_all[i],tr=x_tr_all[i])"
   ]
  },
  {
   "cell_type": "code",
   "execution_count": null,
   "id": "89317da8-49af-4c87-9c8f-04f239ae20ec",
   "metadata": {},
   "outputs": [],
   "source": [
    "np.save('D:/istb_4/rf_classifier/step_ahead_random_shuffle_ACC_tr_imb_8hr.npy',r2_tr_list)\n",
    "np.save('D:/istb_4/rf_classifier/step_ahead_random_shuffle_ACC_te_imb_8hr.npy',r2_te_list)\n",
    "np.save('D:/istb_4/rf_classifier/step_ahead_random_shuffle_con_mat_te_imb_8hr.npy',con_mat)\n",
    "np.save('D:/istb_4/rf_classifier/step_ahead_random_shuffle_rfc_vari_imp_mn_8hr.npy',vari_imp_mn)\n"
   ]
  },
  {
   "cell_type": "code",
   "execution_count": null,
   "id": "468e5108-9099-403a-aabf-7232a0e1a9bc",
   "metadata": {},
   "outputs": [],
   "source": [
    "np.save('D:/istb_4/rf_classifier/step_ahead_random_shuffle_rfc_vari_imp_permutation_8hr.npy',pmut_im)\n"
   ]
  },
  {
   "cell_type": "markdown",
   "id": "e36feed7-587c-4d3f-b147-c835521cbe1b",
   "metadata": {},
   "source": [
    "# Variable imp"
   ]
  },
  {
   "cell_type": "code",
   "execution_count": null,
   "id": "18bbe8b0-acb3-4f8c-bc21-e42864872707",
   "metadata": {},
   "outputs": [],
   "source": [
    "from matplotlib import rc\n",
    "rc('font',**{'family':'serif','serif':['Times']})\n",
    "# rc.rcParams['font.size'] = 12\n",
    "rc('text', usetex=True)\n",
    "txt_size=13\n",
    "label_size=10\n",
    "mean_var_im=np.array(pmut_im).mean(axis=0)\n",
    "variables_name=['pH', 'Conductivity', 'Temperature', 'ORP', 'Occupancy']\n",
    "\n",
    "varplot=pd.DataFrame(data= mean_var_im, index=variables_name, columns=['gini'])\n",
    "dfx = varplot.sort_values('gini',ascending=False)\n",
    "fig, ax=plt.subplots(nrows=1, ncols=1, sharey= True, figsize=(5,3), dpi=200)\n",
    "\n",
    "ax.bar(dfx.index,dfx['gini']/dfx['gini'].sum())\n",
    "ax.set_ylabel('Variable importance',fontsize=txt_size)\n",
    "ax.xaxis.set_ticks_position('both')\n",
    "ax.tick_params(direction='in',labelsize=label_size)\n",
    "ax.yaxis.set_ticks_position('both')\n",
    "# ax.set_xticks(variables_name, fontsize=label_size)\n",
    "plt.show()\n"
   ]
  },
  {
   "cell_type": "code",
   "execution_count": null,
   "id": "ad64394f-35d8-4b00-90b3-15cdc954aebe",
   "metadata": {},
   "outputs": [],
   "source": []
  },
  {
   "cell_type": "markdown",
   "id": "6ac47c21-ad4b-4667-b23a-abdaf3425db2",
   "metadata": {},
   "source": [
    "# accuracy vs time step"
   ]
  },
  {
   "cell_type": "code",
   "execution_count": null,
   "id": "cca33bdb-119a-475d-881b-6c2e71158be7",
   "metadata": {},
   "outputs": [],
   "source": [
    "from matplotlib import rc\n",
    "rc('font',**{'family':'serif','serif':['Times']})\n",
    "# rc.rcParams['font.size'] = 12\n",
    "rc('text', usetex=True)\n",
    "txt_size=13\n",
    "label_size=10\n",
    "fig, ax=plt.subplots(nrows=1, ncols=1, sharey= True, figsize=(4,3), dpi=200)\n",
    "ax.plot(np.array(step_list)*5/60,np.array(r2_tr_list)*100,'r', linestyle='--', label='RF classification Train')\n",
    "ax.plot(np.array(step_list)*5/60,np.array(r2_te_list)*100,'b',linestyle='--',markersize=3,label='RF classification Test')\n",
    "# ax.set_ylim([95,100])\n",
    "ax.legend()\n",
    "ax.set_xlabel('Time ahead (hr)',fontsize=txt_size)\n",
    "ax.set_ylabel('Accuracy',fontsize=txt_size)\n",
    "ax.tick_params(axis='both', direction='in',labelsize=label_size) \n",
    "plt.show()"
   ]
  },
  {
   "cell_type": "code",
   "execution_count": null,
   "id": "623bc3e1-46ed-41ea-acf8-c91c06a553db",
   "metadata": {},
   "outputs": [],
   "source": [
    "con_mat[30]"
   ]
  },
  {
   "cell_type": "code",
   "execution_count": null,
   "id": "b614a4a1-3972-464e-b4f8-16c447a2af83",
   "metadata": {},
   "outputs": [],
   "source": []
  }
 ],
 "metadata": {
  "kernelspec": {
   "display_name": "lstm",
   "language": "python",
   "name": "lstm"
  },
  "language_info": {
   "codemirror_mode": {
    "name": "ipython",
    "version": 3
   },
   "file_extension": ".py",
   "mimetype": "text/x-python",
   "name": "python",
   "nbconvert_exporter": "python",
   "pygments_lexer": "ipython3",
   "version": "3.9.12"
  }
 },
 "nbformat": 4,
 "nbformat_minor": 5
}
